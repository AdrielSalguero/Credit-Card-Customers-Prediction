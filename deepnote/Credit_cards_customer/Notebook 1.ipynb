{
  "cells": [
    {
      "cell_type": "code",
      "source": "!kaggle datasets download -d whenamancodes/credit-card-customers-prediction --unzip",
      "metadata": {
        "source_hash": "c25374de",
        "execution_start": 1694282744451,
        "execution_millis": 1577,
        "deepnote_to_be_reexecuted": false,
        "cell_id": "e019bdeb4075441d9ec2a15c007b9f08",
        "deepnote_cell_type": "code"
      },
      "outputs": [
        {
          "name": "stdout",
          "text": "Downloading credit-card-customers-prediction.zip to /work\n  0%|                                                | 0.00/379k [00:00<?, ?B/s]\n100%|████████████████████████████████████████| 379k/379k [00:00<00:00, 4.52MB/s]\n",
          "output_type": "stream"
        }
      ],
      "execution_count": 3,
      "block_group": "e019bdeb4075441d9ec2a15c007b9f08"
    },
    {
      "cell_type": "code",
      "source": "import pandas as pd\nimport numpy as np\nimport seaborn as sns\nimport matplotlib_inline as plot",
      "metadata": {
        "source_hash": "7c55249b",
        "execution_start": 1694282820231,
        "execution_millis": 1589,
        "deepnote_to_be_reexecuted": false,
        "cell_id": "f440d9bdee2342f0a02c08f1790af083",
        "deepnote_cell_type": "code"
      },
      "outputs": [],
      "execution_count": 4,
      "block_group": "f440d9bdee2342f0a02c08f1790af083"
    },
    {
      "cell_type": "code",
      "source": "df = pd.read_csv('/work/BankChurners.csv')\ndf.head(10)",
      "metadata": {
        "source_hash": "e3d1b108",
        "execution_start": 1694282880707,
        "execution_millis": 254,
        "deepnote_to_be_reexecuted": false,
        "cell_id": "538744fd4914474c82c4d519b11514cc",
        "deepnote_cell_type": "code"
      },
      "outputs": [
        {
          "output_type": "execute_result",
          "execution_count": 6,
          "data": {
            "application/vnd.deepnote.dataframe.v3+json": {
              "column_count": 23,
              "row_count": 10,
              "columns": [
                {
                  "name": "CLIENTNUM",
                  "dtype": "int64",
                  "stats": {
                    "unique_count": 10,
                    "nan_count": 0,
                    "min": "709106358",
                    "max": "818906208",
                    "histogram": [
                      {
                        "bin_start": 709106358,
                        "bin_end": 720086343,
                        "count": 5
                      },
                      {
                        "bin_start": 720086343,
                        "bin_end": 731066328,
                        "count": 0
                      },
                      {
                        "bin_start": 731066328,
                        "bin_end": 742046313,
                        "count": 0
                      },
                      {
                        "bin_start": 742046313,
                        "bin_end": 753026298,
                        "count": 0
                      },
                      {
                        "bin_start": 753026298,
                        "bin_end": 764006283,
                        "count": 0
                      },
                      {
                        "bin_start": 764006283,
                        "bin_end": 774986268,
                        "count": 2
                      },
                      {
                        "bin_start": 774986268,
                        "bin_end": 785966253,
                        "count": 0
                      },
                      {
                        "bin_start": 785966253,
                        "bin_end": 796946238,
                        "count": 0
                      },
                      {
                        "bin_start": 796946238,
                        "bin_end": 807926223,
                        "count": 0
                      },
                      {
                        "bin_start": 807926223,
                        "bin_end": 818906208,
                        "count": 3
                      }
                    ]
                  }
                },
                {
                  "name": "Attrition_Flag",
                  "dtype": "object",
                  "stats": {
                    "unique_count": 1,
                    "nan_count": 0,
                    "categories": [
                      {
                        "name": "Existing Customer",
                        "count": 10
                      }
                    ]
                  }
                },
                {
                  "name": "Customer_Age",
                  "dtype": "int64",
                  "stats": {
                    "unique_count": 8,
                    "nan_count": 0,
                    "min": "32",
                    "max": "51",
                    "histogram": [
                      {
                        "bin_start": 32,
                        "bin_end": 33.9,
                        "count": 1
                      },
                      {
                        "bin_start": 33.9,
                        "bin_end": 35.8,
                        "count": 0
                      },
                      {
                        "bin_start": 35.8,
                        "bin_end": 37.7,
                        "count": 1
                      },
                      {
                        "bin_start": 37.7,
                        "bin_end": 39.6,
                        "count": 0
                      },
                      {
                        "bin_start": 39.6,
                        "bin_end": 41.5,
                        "count": 2
                      },
                      {
                        "bin_start": 41.5,
                        "bin_end": 43.4,
                        "count": 0
                      },
                      {
                        "bin_start": 43.4,
                        "bin_end": 45.3,
                        "count": 2
                      },
                      {
                        "bin_start": 45.3,
                        "bin_end": 47.2,
                        "count": 0
                      },
                      {
                        "bin_start": 47.2,
                        "bin_end": 49.099999999999994,
                        "count": 2
                      },
                      {
                        "bin_start": 49.099999999999994,
                        "bin_end": 51,
                        "count": 2
                      }
                    ]
                  }
                },
                {
                  "name": "Gender",
                  "dtype": "object",
                  "stats": {
                    "unique_count": 2,
                    "nan_count": 0,
                    "categories": [
                      {
                        "name": "M",
                        "count": 8
                      },
                      {
                        "name": "F",
                        "count": 2
                      }
                    ]
                  }
                },
                {
                  "name": "Dependent_count",
                  "dtype": "int64",
                  "stats": {
                    "unique_count": 5,
                    "nan_count": 0,
                    "min": "0",
                    "max": "5",
                    "histogram": [
                      {
                        "bin_start": 0,
                        "bin_end": 0.5,
                        "count": 1
                      },
                      {
                        "bin_start": 0.5,
                        "bin_end": 1,
                        "count": 0
                      },
                      {
                        "bin_start": 1,
                        "bin_end": 1.5,
                        "count": 0
                      },
                      {
                        "bin_start": 1.5,
                        "bin_end": 2,
                        "count": 0
                      },
                      {
                        "bin_start": 2,
                        "bin_end": 2.5,
                        "count": 2
                      },
                      {
                        "bin_start": 2.5,
                        "bin_end": 3,
                        "count": 0
                      },
                      {
                        "bin_start": 3,
                        "bin_end": 3.5,
                        "count": 4
                      },
                      {
                        "bin_start": 3.5,
                        "bin_end": 4,
                        "count": 0
                      },
                      {
                        "bin_start": 4,
                        "bin_end": 4.5,
                        "count": 2
                      },
                      {
                        "bin_start": 4.5,
                        "bin_end": 5,
                        "count": 1
                      }
                    ]
                  }
                },
                {
                  "name": "Education_Level",
                  "dtype": "object",
                  "stats": {
                    "unique_count": 4,
                    "nan_count": 0,
                    "categories": [
                      {
                        "name": "Graduate",
                        "count": 4
                      },
                      {
                        "name": "High School",
                        "count": 3
                      },
                      {
                        "name": "2 others",
                        "count": 3
                      }
                    ]
                  }
                },
                {
                  "name": "Marital_Status",
                  "dtype": "object",
                  "stats": {
                    "unique_count": 3,
                    "nan_count": 0,
                    "categories": [
                      {
                        "name": "Married",
                        "count": 5
                      },
                      {
                        "name": "Single",
                        "count": 3
                      },
                      {
                        "name": "Unknown",
                        "count": 2
                      }
                    ]
                  }
                },
                {
                  "name": "Income_Category",
                  "dtype": "object",
                  "stats": {
                    "unique_count": 5,
                    "nan_count": 0,
                    "categories": [
                      {
                        "name": "$60K - $80K",
                        "count": 4
                      },
                      {
                        "name": "Less than $40K",
                        "count": 2
                      },
                      {
                        "name": "3 others",
                        "count": 4
                      }
                    ]
                  }
                },
                {
                  "name": "Card_Category",
                  "dtype": "object",
                  "stats": {
                    "unique_count": 3,
                    "nan_count": 0,
                    "categories": [
                      {
                        "name": "Blue",
                        "count": 8
                      },
                      {
                        "name": "Gold",
                        "count": 1
                      },
                      {
                        "name": "Silver",
                        "count": 1
                      }
                    ]
                  }
                },
                {
                  "name": "Months_on_book",
                  "dtype": "int64",
                  "stats": {
                    "unique_count": 7,
                    "nan_count": 0,
                    "min": "21",
                    "max": "46",
                    "histogram": [
                      {
                        "bin_start": 21,
                        "bin_end": 23.5,
                        "count": 1
                      },
                      {
                        "bin_start": 23.5,
                        "bin_end": 26,
                        "count": 0
                      },
                      {
                        "bin_start": 26,
                        "bin_end": 28.5,
                        "count": 1
                      },
                      {
                        "bin_start": 28.5,
                        "bin_end": 31,
                        "count": 0
                      },
                      {
                        "bin_start": 31,
                        "bin_end": 33.5,
                        "count": 0
                      },
                      {
                        "bin_start": 33.5,
                        "bin_end": 36,
                        "count": 1
                      },
                      {
                        "bin_start": 36,
                        "bin_end": 38.5,
                        "count": 4
                      },
                      {
                        "bin_start": 38.5,
                        "bin_end": 41,
                        "count": 1
                      },
                      {
                        "bin_start": 41,
                        "bin_end": 43.5,
                        "count": 0
                      },
                      {
                        "bin_start": 43.5,
                        "bin_end": 46,
                        "count": 2
                      }
                    ]
                  }
                },
                {
                  "name": "Total_Relationship_Count",
                  "dtype": "int64",
                  "stats": {
                    "unique_count": 5,
                    "nan_count": 0,
                    "min": "2",
                    "max": "6",
                    "histogram": [
                      {
                        "bin_start": 2,
                        "bin_end": 2.4,
                        "count": 1
                      },
                      {
                        "bin_start": 2.4,
                        "bin_end": 2.8,
                        "count": 0
                      },
                      {
                        "bin_start": 2.8,
                        "bin_end": 3.2,
                        "count": 2
                      },
                      {
                        "bin_start": 3.2,
                        "bin_end": 3.6,
                        "count": 0
                      },
                      {
                        "bin_start": 3.6,
                        "bin_end": 4,
                        "count": 0
                      },
                      {
                        "bin_start": 4,
                        "bin_end": 4.4,
                        "count": 1
                      },
                      {
                        "bin_start": 4.4,
                        "bin_end": 4.800000000000001,
                        "count": 0
                      },
                      {
                        "bin_start": 4.800000000000001,
                        "bin_end": 5.2,
                        "count": 3
                      },
                      {
                        "bin_start": 5.2,
                        "bin_end": 5.6,
                        "count": 0
                      },
                      {
                        "bin_start": 5.6,
                        "bin_end": 6,
                        "count": 3
                      }
                    ]
                  }
                },
                {
                  "name": "Months_Inactive_12_mon",
                  "dtype": "int64",
                  "stats": {
                    "unique_count": 4,
                    "nan_count": 0,
                    "min": "1",
                    "max": "4",
                    "histogram": [
                      {
                        "bin_start": 1,
                        "bin_end": 1.3,
                        "count": 6
                      },
                      {
                        "bin_start": 1.3,
                        "bin_end": 1.6,
                        "count": 0
                      },
                      {
                        "bin_start": 1.6,
                        "bin_end": 1.9,
                        "count": 0
                      },
                      {
                        "bin_start": 1.9,
                        "bin_end": 2.2,
                        "count": 2
                      },
                      {
                        "bin_start": 2.2,
                        "bin_end": 2.5,
                        "count": 0
                      },
                      {
                        "bin_start": 2.5,
                        "bin_end": 2.8,
                        "count": 0
                      },
                      {
                        "bin_start": 2.8,
                        "bin_end": 3.1,
                        "count": 1
                      },
                      {
                        "bin_start": 3.1,
                        "bin_end": 3.4,
                        "count": 0
                      },
                      {
                        "bin_start": 3.4,
                        "bin_end": 3.6999999999999997,
                        "count": 0
                      },
                      {
                        "bin_start": 3.6999999999999997,
                        "bin_end": 4,
                        "count": 1
                      }
                    ]
                  }
                },
                {
                  "name": "Contacts_Count_12_mon",
                  "dtype": "int64",
                  "stats": {
                    "unique_count": 4,
                    "nan_count": 0,
                    "min": "0",
                    "max": "3",
                    "histogram": [
                      {
                        "bin_start": 0,
                        "bin_end": 0.3,
                        "count": 3
                      },
                      {
                        "bin_start": 0.3,
                        "bin_end": 0.6,
                        "count": 0
                      },
                      {
                        "bin_start": 0.6,
                        "bin_end": 0.8999999999999999,
                        "count": 0
                      },
                      {
                        "bin_start": 0.8999999999999999,
                        "bin_end": 1.2,
                        "count": 1
                      },
                      {
                        "bin_start": 1.2,
                        "bin_end": 1.5,
                        "count": 0
                      },
                      {
                        "bin_start": 1.5,
                        "bin_end": 1.7999999999999998,
                        "count": 0
                      },
                      {
                        "bin_start": 1.7999999999999998,
                        "bin_end": 2.1,
                        "count": 3
                      },
                      {
                        "bin_start": 2.1,
                        "bin_end": 2.4,
                        "count": 0
                      },
                      {
                        "bin_start": 2.4,
                        "bin_end": 2.6999999999999997,
                        "count": 0
                      },
                      {
                        "bin_start": 2.6999999999999997,
                        "bin_end": 3,
                        "count": 3
                      }
                    ]
                  }
                },
                {
                  "name": "Credit_Limit",
                  "dtype": "float64",
                  "stats": {
                    "unique_count": 10,
                    "nan_count": 0,
                    "min": "3313.0",
                    "max": "34516.0",
                    "histogram": [
                      {
                        "bin_start": 3313,
                        "bin_end": 6433.3,
                        "count": 4
                      },
                      {
                        "bin_start": 6433.3,
                        "bin_end": 9553.6,
                        "count": 1
                      },
                      {
                        "bin_start": 9553.6,
                        "bin_end": 12673.900000000001,
                        "count": 1
                      },
                      {
                        "bin_start": 12673.900000000001,
                        "bin_end": 15794.2,
                        "count": 1
                      },
                      {
                        "bin_start": 15794.2,
                        "bin_end": 18914.5,
                        "count": 0
                      },
                      {
                        "bin_start": 18914.5,
                        "bin_end": 22034.800000000003,
                        "count": 0
                      },
                      {
                        "bin_start": 22034.800000000003,
                        "bin_end": 25155.100000000002,
                        "count": 1
                      },
                      {
                        "bin_start": 25155.100000000002,
                        "bin_end": 28275.4,
                        "count": 0
                      },
                      {
                        "bin_start": 28275.4,
                        "bin_end": 31395.7,
                        "count": 1
                      },
                      {
                        "bin_start": 31395.7,
                        "bin_end": 34516,
                        "count": 1
                      }
                    ]
                  }
                },
                {
                  "name": "Total_Revolving_Bal",
                  "dtype": "int64",
                  "stats": {
                    "unique_count": 8,
                    "nan_count": 0,
                    "min": "0",
                    "max": "2517",
                    "histogram": [
                      {
                        "bin_start": 0,
                        "bin_end": 251.7,
                        "count": 2
                      },
                      {
                        "bin_start": 251.7,
                        "bin_end": 503.4,
                        "count": 0
                      },
                      {
                        "bin_start": 503.4,
                        "bin_end": 755.0999999999999,
                        "count": 0
                      },
                      {
                        "bin_start": 755.0999999999999,
                        "bin_end": 1006.8,
                        "count": 2
                      },
                      {
                        "bin_start": 1006.8,
                        "bin_end": 1258.5,
                        "count": 1
                      },
                      {
                        "bin_start": 1258.5,
                        "bin_end": 1510.1999999999998,
                        "count": 1
                      },
                      {
                        "bin_start": 1510.1999999999998,
                        "bin_end": 1761.8999999999999,
                        "count": 1
                      },
                      {
                        "bin_start": 1761.8999999999999,
                        "bin_end": 2013.6,
                        "count": 0
                      },
                      {
                        "bin_start": 2013.6,
                        "bin_end": 2265.2999999999997,
                        "count": 1
                      },
                      {
                        "bin_start": 2265.2999999999997,
                        "bin_end": 2517,
                        "count": 2
                      }
                    ]
                  }
                },
                {
                  "name": "Avg_Open_To_Buy",
                  "dtype": "float64",
                  "stats": {
                    "unique_count": 10,
                    "nan_count": 0,
                    "min": "796.0",
                    "max": "32252.0",
                    "histogram": [
                      {
                        "bin_start": 796,
                        "bin_end": 3941.6,
                        "count": 3
                      },
                      {
                        "bin_start": 3941.6,
                        "bin_end": 7087.2,
                        "count": 1
                      },
                      {
                        "bin_start": 7087.2,
                        "bin_end": 10232.8,
                        "count": 2
                      },
                      {
                        "bin_start": 10232.8,
                        "bin_end": 13378.4,
                        "count": 1
                      },
                      {
                        "bin_start": 13378.4,
                        "bin_end": 16524,
                        "count": 0
                      },
                      {
                        "bin_start": 16524,
                        "bin_end": 19669.6,
                        "count": 0
                      },
                      {
                        "bin_start": 19669.6,
                        "bin_end": 22815.2,
                        "count": 1
                      },
                      {
                        "bin_start": 22815.2,
                        "bin_end": 25960.8,
                        "count": 0
                      },
                      {
                        "bin_start": 25960.8,
                        "bin_end": 29106.399999999998,
                        "count": 1
                      },
                      {
                        "bin_start": 29106.399999999998,
                        "bin_end": 32252,
                        "count": 1
                      }
                    ]
                  }
                },
                {
                  "name": "Total_Amt_Chng_Q4_Q1",
                  "dtype": "float64",
                  "stats": {
                    "unique_count": 10,
                    "nan_count": 0,
                    "min": "1.335",
                    "max": "3.355",
                    "histogram": [
                      {
                        "bin_start": 1.335,
                        "bin_end": 1.537,
                        "count": 4
                      },
                      {
                        "bin_start": 1.537,
                        "bin_end": 1.7389999999999999,
                        "count": 1
                      },
                      {
                        "bin_start": 1.7389999999999999,
                        "bin_end": 1.941,
                        "count": 0
                      },
                      {
                        "bin_start": 1.941,
                        "bin_end": 2.143,
                        "count": 1
                      },
                      {
                        "bin_start": 2.143,
                        "bin_end": 2.3449999999999998,
                        "count": 2
                      },
                      {
                        "bin_start": 2.3449999999999998,
                        "bin_end": 2.547,
                        "count": 0
                      },
                      {
                        "bin_start": 2.547,
                        "bin_end": 2.749,
                        "count": 1
                      },
                      {
                        "bin_start": 2.749,
                        "bin_end": 2.951,
                        "count": 0
                      },
                      {
                        "bin_start": 2.951,
                        "bin_end": 3.153,
                        "count": 0
                      },
                      {
                        "bin_start": 3.153,
                        "bin_end": 3.355,
                        "count": 1
                      }
                    ]
                  }
                },
                {
                  "name": "Total_Trans_Amt",
                  "dtype": "int64",
                  "stats": {
                    "unique_count": 10,
                    "nan_count": 0,
                    "min": "816",
                    "max": "1887",
                    "histogram": [
                      {
                        "bin_start": 816,
                        "bin_end": 923.1,
                        "count": 1
                      },
                      {
                        "bin_start": 923.1,
                        "bin_end": 1030.2,
                        "count": 0
                      },
                      {
                        "bin_start": 1030.2,
                        "bin_end": 1137.3,
                        "count": 1
                      },
                      {
                        "bin_start": 1137.3,
                        "bin_end": 1244.4,
                        "count": 2
                      },
                      {
                        "bin_start": 1244.4,
                        "bin_end": 1351.5,
                        "count": 3
                      },
                      {
                        "bin_start": 1351.5,
                        "bin_end": 1458.6,
                        "count": 1
                      },
                      {
                        "bin_start": 1458.6,
                        "bin_end": 1565.6999999999998,
                        "count": 1
                      },
                      {
                        "bin_start": 1565.6999999999998,
                        "bin_end": 1672.8,
                        "count": 0
                      },
                      {
                        "bin_start": 1672.8,
                        "bin_end": 1779.9,
                        "count": 0
                      },
                      {
                        "bin_start": 1779.9,
                        "bin_end": 1887,
                        "count": 1
                      }
                    ]
                  }
                },
                {
                  "name": "Total_Trans_Ct",
                  "dtype": "int64",
                  "stats": {
                    "unique_count": 8,
                    "nan_count": 0,
                    "min": "20",
                    "max": "42",
                    "histogram": [
                      {
                        "bin_start": 20,
                        "bin_end": 22.2,
                        "count": 2
                      },
                      {
                        "bin_start": 22.2,
                        "bin_end": 24.4,
                        "count": 2
                      },
                      {
                        "bin_start": 24.4,
                        "bin_end": 26.6,
                        "count": 0
                      },
                      {
                        "bin_start": 26.6,
                        "bin_end": 28.8,
                        "count": 1
                      },
                      {
                        "bin_start": 28.8,
                        "bin_end": 31,
                        "count": 0
                      },
                      {
                        "bin_start": 31,
                        "bin_end": 33.2,
                        "count": 3
                      },
                      {
                        "bin_start": 33.2,
                        "bin_end": 35.400000000000006,
                        "count": 0
                      },
                      {
                        "bin_start": 35.400000000000006,
                        "bin_end": 37.6,
                        "count": 1
                      },
                      {
                        "bin_start": 37.6,
                        "bin_end": 39.8,
                        "count": 0
                      },
                      {
                        "bin_start": 39.8,
                        "bin_end": 42,
                        "count": 1
                      }
                    ]
                  }
                },
                {
                  "name": "Total_Ct_Chng_Q4_Q1",
                  "dtype": "float64",
                  "stats": {
                    "unique_count": 9,
                    "nan_count": 0,
                    "min": "0.714",
                    "max": "3.714",
                    "histogram": [
                      {
                        "bin_start": 0.714,
                        "bin_end": 1.014,
                        "count": 4
                      },
                      {
                        "bin_start": 1.014,
                        "bin_end": 1.314,
                        "count": 1
                      },
                      {
                        "bin_start": 1.314,
                        "bin_end": 1.6139999999999999,
                        "count": 0
                      },
                      {
                        "bin_start": 1.6139999999999999,
                        "bin_end": 1.914,
                        "count": 1
                      },
                      {
                        "bin_start": 1.914,
                        "bin_end": 2.214,
                        "count": 0
                      },
                      {
                        "bin_start": 2.214,
                        "bin_end": 2.514,
                        "count": 3
                      },
                      {
                        "bin_start": 2.514,
                        "bin_end": 2.814,
                        "count": 0
                      },
                      {
                        "bin_start": 2.814,
                        "bin_end": 3.114,
                        "count": 0
                      },
                      {
                        "bin_start": 3.114,
                        "bin_end": 3.4139999999999997,
                        "count": 0
                      },
                      {
                        "bin_start": 3.4139999999999997,
                        "bin_end": 3.714,
                        "count": 1
                      }
                    ]
                  }
                },
                {
                  "name": "Avg_Utilization_Ratio",
                  "dtype": "float64",
                  "stats": {
                    "unique_count": 9,
                    "nan_count": 0,
                    "min": "0.0",
                    "max": "0.76",
                    "histogram": [
                      {
                        "bin_start": 0,
                        "bin_end": 0.076,
                        "count": 5
                      },
                      {
                        "bin_start": 0.076,
                        "bin_end": 0.152,
                        "count": 3
                      },
                      {
                        "bin_start": 0.152,
                        "bin_end": 0.22799999999999998,
                        "count": 0
                      },
                      {
                        "bin_start": 0.22799999999999998,
                        "bin_end": 0.304,
                        "count": 0
                      },
                      {
                        "bin_start": 0.304,
                        "bin_end": 0.38,
                        "count": 1
                      },
                      {
                        "bin_start": 0.38,
                        "bin_end": 0.45599999999999996,
                        "count": 0
                      },
                      {
                        "bin_start": 0.45599999999999996,
                        "bin_end": 0.532,
                        "count": 0
                      },
                      {
                        "bin_start": 0.532,
                        "bin_end": 0.608,
                        "count": 0
                      },
                      {
                        "bin_start": 0.608,
                        "bin_end": 0.6839999999999999,
                        "count": 0
                      },
                      {
                        "bin_start": 0.6839999999999999,
                        "bin_end": 0.76,
                        "count": 1
                      }
                    ]
                  }
                },
                {
                  "name": "Naive_Bayes_Classifier_Attrition_Flag_Card_Category_Contacts_Count_12_mon_Dependent_count_Education_Level_Months_Inactive_12_mon_1",
                  "dtype": "float64",
                  "stats": {
                    "unique_count": 10,
                    "nan_count": 0,
                    "min": "2.1081e-05",
                    "max": "0.00030251",
                    "histogram": [
                      {
                        "bin_start": 0.000021081,
                        "bin_end": 0.000049223899999999995,
                        "count": 3
                      },
                      {
                        "bin_start": 0.000049223899999999995,
                        "bin_end": 0.00007736679999999999,
                        "count": 2
                      },
                      {
                        "bin_start": 0.00007736679999999999,
                        "bin_end": 0.00010550969999999999,
                        "count": 2
                      },
                      {
                        "bin_start": 0.00010550969999999999,
                        "bin_end": 0.0001336526,
                        "count": 1
                      },
                      {
                        "bin_start": 0.0001336526,
                        "bin_end": 0.00016179549999999999,
                        "count": 1
                      },
                      {
                        "bin_start": 0.00016179549999999999,
                        "bin_end": 0.00018993839999999998,
                        "count": 0
                      },
                      {
                        "bin_start": 0.00018993839999999998,
                        "bin_end": 0.00021808129999999998,
                        "count": 0
                      },
                      {
                        "bin_start": 0.00021808129999999998,
                        "bin_end": 0.0002462242,
                        "count": 0
                      },
                      {
                        "bin_start": 0.0002462242,
                        "bin_end": 0.00027436709999999995,
                        "count": 0
                      },
                      {
                        "bin_start": 0.00027436709999999995,
                        "bin_end": 0.00030251,
                        "count": 1
                      }
                    ]
                  }
                },
                {
                  "name": "Naive_Bayes_Classifier_Attrition_Flag_Card_Category_Contacts_Count_12_mon_Dependent_count_Education_Level_Months_Inactive_12_mon_2",
                  "dtype": "float64",
                  "stats": {
                    "unique_count": 7,
                    "nan_count": 0,
                    "min": "0.9997",
                    "max": "0.99998",
                    "histogram": [
                      {
                        "bin_start": 0.9997,
                        "bin_end": 0.9997280000000001,
                        "count": 1
                      },
                      {
                        "bin_start": 0.9997280000000001,
                        "bin_end": 0.999756,
                        "count": 0
                      },
                      {
                        "bin_start": 0.999756,
                        "bin_end": 0.999784,
                        "count": 0
                      },
                      {
                        "bin_start": 0.999784,
                        "bin_end": 0.999812,
                        "count": 0
                      },
                      {
                        "bin_start": 0.999812,
                        "bin_end": 0.9998400000000001,
                        "count": 0
                      },
                      {
                        "bin_start": 0.9998400000000001,
                        "bin_end": 0.999868,
                        "count": 0
                      },
                      {
                        "bin_start": 0.999868,
                        "bin_end": 0.999896,
                        "count": 2
                      },
                      {
                        "bin_start": 0.999896,
                        "bin_end": 0.999924,
                        "count": 2
                      },
                      {
                        "bin_start": 0.999924,
                        "bin_end": 0.999952,
                        "count": 2
                      },
                      {
                        "bin_start": 0.999952,
                        "bin_end": 0.99998,
                        "count": 3
                      }
                    ]
                  }
                },
                {
                  "name": "_deepnote_index_column",
                  "dtype": "int64"
                }
              ],
              "rows": [
                {
                  "CLIENTNUM": 768805383,
                  "Attrition_Flag": "Existing Customer",
                  "Customer_Age": 45,
                  "Gender": "M",
                  "Dependent_count": 3,
                  "Education_Level": "High School",
                  "Marital_Status": "Married",
                  "Income_Category": "$60K - $80K",
                  "Card_Category": "Blue",
                  "Months_on_book": 39,
                  "Total_Relationship_Count": 5,
                  "Months_Inactive_12_mon": 1,
                  "Contacts_Count_12_mon": 3,
                  "Credit_Limit": 12691,
                  "Total_Revolving_Bal": 777,
                  "Avg_Open_To_Buy": 11914,
                  "Total_Amt_Chng_Q4_Q1": 1.335,
                  "Total_Trans_Amt": 1144,
                  "Total_Trans_Ct": 42,
                  "Total_Ct_Chng_Q4_Q1": 1.625,
                  "Avg_Utilization_Ratio": 0.061,
                  "Naive_Bayes_Classifier_Attrition_Flag_Card_Category_Contacts_Count_12_mon_Dependent_count_Education_Level_Months_Inactive_12_mon_1": 0.000093448,
                  "Naive_Bayes_Classifier_Attrition_Flag_Card_Category_Contacts_Count_12_mon_Dependent_count_Education_Level_Months_Inactive_12_mon_2": 0.99991,
                  "_deepnote_index_column": 0
                },
                {
                  "CLIENTNUM": 818770008,
                  "Attrition_Flag": "Existing Customer",
                  "Customer_Age": 49,
                  "Gender": "F",
                  "Dependent_count": 5,
                  "Education_Level": "Graduate",
                  "Marital_Status": "Single",
                  "Income_Category": "Less than $40K",
                  "Card_Category": "Blue",
                  "Months_on_book": 44,
                  "Total_Relationship_Count": 6,
                  "Months_Inactive_12_mon": 1,
                  "Contacts_Count_12_mon": 2,
                  "Credit_Limit": 8256,
                  "Total_Revolving_Bal": 864,
                  "Avg_Open_To_Buy": 7392,
                  "Total_Amt_Chng_Q4_Q1": 1.541,
                  "Total_Trans_Amt": 1291,
                  "Total_Trans_Ct": 33,
                  "Total_Ct_Chng_Q4_Q1": 3.714,
                  "Avg_Utilization_Ratio": 0.105,
                  "Naive_Bayes_Classifier_Attrition_Flag_Card_Category_Contacts_Count_12_mon_Dependent_count_Education_Level_Months_Inactive_12_mon_1": 0.000056861,
                  "Naive_Bayes_Classifier_Attrition_Flag_Card_Category_Contacts_Count_12_mon_Dependent_count_Education_Level_Months_Inactive_12_mon_2": 0.99994,
                  "_deepnote_index_column": 1
                },
                {
                  "CLIENTNUM": 713982108,
                  "Attrition_Flag": "Existing Customer",
                  "Customer_Age": 51,
                  "Gender": "M",
                  "Dependent_count": 3,
                  "Education_Level": "Graduate",
                  "Marital_Status": "Married",
                  "Income_Category": "$80K - $120K",
                  "Card_Category": "Blue",
                  "Months_on_book": 36,
                  "Total_Relationship_Count": 4,
                  "Months_Inactive_12_mon": 1,
                  "Contacts_Count_12_mon": 0,
                  "Credit_Limit": 3418,
                  "Total_Revolving_Bal": 0,
                  "Avg_Open_To_Buy": 3418,
                  "Total_Amt_Chng_Q4_Q1": 2.594,
                  "Total_Trans_Amt": 1887,
                  "Total_Trans_Ct": 20,
                  "Total_Ct_Chng_Q4_Q1": 2.333,
                  "Avg_Utilization_Ratio": 0,
                  "Naive_Bayes_Classifier_Attrition_Flag_Card_Category_Contacts_Count_12_mon_Dependent_count_Education_Level_Months_Inactive_12_mon_1": 0.000021081,
                  "Naive_Bayes_Classifier_Attrition_Flag_Card_Category_Contacts_Count_12_mon_Dependent_count_Education_Level_Months_Inactive_12_mon_2": 0.99998,
                  "_deepnote_index_column": 2
                },
                {
                  "CLIENTNUM": 769911858,
                  "Attrition_Flag": "Existing Customer",
                  "Customer_Age": 40,
                  "Gender": "F",
                  "Dependent_count": 4,
                  "Education_Level": "High School",
                  "Marital_Status": "Unknown",
                  "Income_Category": "Less than $40K",
                  "Card_Category": "Blue",
                  "Months_on_book": 34,
                  "Total_Relationship_Count": 3,
                  "Months_Inactive_12_mon": 4,
                  "Contacts_Count_12_mon": 1,
                  "Credit_Limit": 3313,
                  "Total_Revolving_Bal": 2517,
                  "Avg_Open_To_Buy": 796,
                  "Total_Amt_Chng_Q4_Q1": 1.405,
                  "Total_Trans_Amt": 1171,
                  "Total_Trans_Ct": 20,
                  "Total_Ct_Chng_Q4_Q1": 2.333,
                  "Avg_Utilization_Ratio": 0.76,
                  "Naive_Bayes_Classifier_Attrition_Flag_Card_Category_Contacts_Count_12_mon_Dependent_count_Education_Level_Months_Inactive_12_mon_1": 0.00013366,
                  "Naive_Bayes_Classifier_Attrition_Flag_Card_Category_Contacts_Count_12_mon_Dependent_count_Education_Level_Months_Inactive_12_mon_2": 0.99987,
                  "_deepnote_index_column": 3
                },
                {
                  "CLIENTNUM": 709106358,
                  "Attrition_Flag": "Existing Customer",
                  "Customer_Age": 40,
                  "Gender": "M",
                  "Dependent_count": 3,
                  "Education_Level": "Uneducated",
                  "Marital_Status": "Married",
                  "Income_Category": "$60K - $80K",
                  "Card_Category": "Blue",
                  "Months_on_book": 21,
                  "Total_Relationship_Count": 5,
                  "Months_Inactive_12_mon": 1,
                  "Contacts_Count_12_mon": 0,
                  "Credit_Limit": 4716,
                  "Total_Revolving_Bal": 0,
                  "Avg_Open_To_Buy": 4716,
                  "Total_Amt_Chng_Q4_Q1": 2.175,
                  "Total_Trans_Amt": 816,
                  "Total_Trans_Ct": 28,
                  "Total_Ct_Chng_Q4_Q1": 2.5,
                  "Avg_Utilization_Ratio": 0,
                  "Naive_Bayes_Classifier_Attrition_Flag_Card_Category_Contacts_Count_12_mon_Dependent_count_Education_Level_Months_Inactive_12_mon_1": 0.000021676,
                  "Naive_Bayes_Classifier_Attrition_Flag_Card_Category_Contacts_Count_12_mon_Dependent_count_Education_Level_Months_Inactive_12_mon_2": 0.99998,
                  "_deepnote_index_column": 4
                },
                {
                  "CLIENTNUM": 713061558,
                  "Attrition_Flag": "Existing Customer",
                  "Customer_Age": 44,
                  "Gender": "M",
                  "Dependent_count": 2,
                  "Education_Level": "Graduate",
                  "Marital_Status": "Married",
                  "Income_Category": "$40K - $60K",
                  "Card_Category": "Blue",
                  "Months_on_book": 36,
                  "Total_Relationship_Count": 3,
                  "Months_Inactive_12_mon": 1,
                  "Contacts_Count_12_mon": 2,
                  "Credit_Limit": 4010,
                  "Total_Revolving_Bal": 1247,
                  "Avg_Open_To_Buy": 2763,
                  "Total_Amt_Chng_Q4_Q1": 1.376,
                  "Total_Trans_Amt": 1088,
                  "Total_Trans_Ct": 24,
                  "Total_Ct_Chng_Q4_Q1": 0.846,
                  "Avg_Utilization_Ratio": 0.311,
                  "Naive_Bayes_Classifier_Attrition_Flag_Card_Category_Contacts_Count_12_mon_Dependent_count_Education_Level_Months_Inactive_12_mon_1": 0.000055077,
                  "Naive_Bayes_Classifier_Attrition_Flag_Card_Category_Contacts_Count_12_mon_Dependent_count_Education_Level_Months_Inactive_12_mon_2": 0.99994,
                  "_deepnote_index_column": 5
                },
                {
                  "CLIENTNUM": 810347208,
                  "Attrition_Flag": "Existing Customer",
                  "Customer_Age": 51,
                  "Gender": "M",
                  "Dependent_count": 4,
                  "Education_Level": "Unknown",
                  "Marital_Status": "Married",
                  "Income_Category": "$120K +",
                  "Card_Category": "Gold",
                  "Months_on_book": 46,
                  "Total_Relationship_Count": 6,
                  "Months_Inactive_12_mon": 1,
                  "Contacts_Count_12_mon": 3,
                  "Credit_Limit": 34516,
                  "Total_Revolving_Bal": 2264,
                  "Avg_Open_To_Buy": 32252,
                  "Total_Amt_Chng_Q4_Q1": 1.975,
                  "Total_Trans_Amt": 1330,
                  "Total_Trans_Ct": 31,
                  "Total_Ct_Chng_Q4_Q1": 0.722,
                  "Avg_Utilization_Ratio": 0.066,
                  "Naive_Bayes_Classifier_Attrition_Flag_Card_Category_Contacts_Count_12_mon_Dependent_count_Education_Level_Months_Inactive_12_mon_1": 0.00012303,
                  "Naive_Bayes_Classifier_Attrition_Flag_Card_Category_Contacts_Count_12_mon_Dependent_count_Education_Level_Months_Inactive_12_mon_2": 0.99988,
                  "_deepnote_index_column": 6
                },
                {
                  "CLIENTNUM": 818906208,
                  "Attrition_Flag": "Existing Customer",
                  "Customer_Age": 32,
                  "Gender": "M",
                  "Dependent_count": 0,
                  "Education_Level": "High School",
                  "Marital_Status": "Unknown",
                  "Income_Category": "$60K - $80K",
                  "Card_Category": "Silver",
                  "Months_on_book": 27,
                  "Total_Relationship_Count": 2,
                  "Months_Inactive_12_mon": 2,
                  "Contacts_Count_12_mon": 2,
                  "Credit_Limit": 29081,
                  "Total_Revolving_Bal": 1396,
                  "Avg_Open_To_Buy": 27685,
                  "Total_Amt_Chng_Q4_Q1": 2.204,
                  "Total_Trans_Amt": 1538,
                  "Total_Trans_Ct": 36,
                  "Total_Ct_Chng_Q4_Q1": 0.714,
                  "Avg_Utilization_Ratio": 0.048,
                  "Naive_Bayes_Classifier_Attrition_Flag_Card_Category_Contacts_Count_12_mon_Dependent_count_Education_Level_Months_Inactive_12_mon_1": 0.000085795,
                  "Naive_Bayes_Classifier_Attrition_Flag_Card_Category_Contacts_Count_12_mon_Dependent_count_Education_Level_Months_Inactive_12_mon_2": 0.99991,
                  "_deepnote_index_column": 7
                },
                {
                  "CLIENTNUM": 710930508,
                  "Attrition_Flag": "Existing Customer",
                  "Customer_Age": 37,
                  "Gender": "M",
                  "Dependent_count": 3,
                  "Education_Level": "Uneducated",
                  "Marital_Status": "Single",
                  "Income_Category": "$60K - $80K",
                  "Card_Category": "Blue",
                  "Months_on_book": 36,
                  "Total_Relationship_Count": 5,
                  "Months_Inactive_12_mon": 2,
                  "Contacts_Count_12_mon": 0,
                  "Credit_Limit": 22352,
                  "Total_Revolving_Bal": 2517,
                  "Avg_Open_To_Buy": 19835,
                  "Total_Amt_Chng_Q4_Q1": 3.355,
                  "Total_Trans_Amt": 1350,
                  "Total_Trans_Ct": 24,
                  "Total_Ct_Chng_Q4_Q1": 1.182,
                  "Avg_Utilization_Ratio": 0.113,
                  "Naive_Bayes_Classifier_Attrition_Flag_Card_Category_Contacts_Count_12_mon_Dependent_count_Education_Level_Months_Inactive_12_mon_1": 0.000044796,
                  "Naive_Bayes_Classifier_Attrition_Flag_Card_Category_Contacts_Count_12_mon_Dependent_count_Education_Level_Months_Inactive_12_mon_2": 0.99996,
                  "_deepnote_index_column": 8
                },
                {
                  "CLIENTNUM": 719661558,
                  "Attrition_Flag": "Existing Customer",
                  "Customer_Age": 48,
                  "Gender": "M",
                  "Dependent_count": 2,
                  "Education_Level": "Graduate",
                  "Marital_Status": "Single",
                  "Income_Category": "$80K - $120K",
                  "Card_Category": "Blue",
                  "Months_on_book": 36,
                  "Total_Relationship_Count": 6,
                  "Months_Inactive_12_mon": 3,
                  "Contacts_Count_12_mon": 3,
                  "Credit_Limit": 11656,
                  "Total_Revolving_Bal": 1677,
                  "Avg_Open_To_Buy": 9979,
                  "Total_Amt_Chng_Q4_Q1": 1.524,
                  "Total_Trans_Amt": 1441,
                  "Total_Trans_Ct": 32,
                  "Total_Ct_Chng_Q4_Q1": 0.882,
                  "Avg_Utilization_Ratio": 0.144,
                  "Naive_Bayes_Classifier_Attrition_Flag_Card_Category_Contacts_Count_12_mon_Dependent_count_Education_Level_Months_Inactive_12_mon_1": 0.00030251,
                  "Naive_Bayes_Classifier_Attrition_Flag_Card_Category_Contacts_Count_12_mon_Dependent_count_Education_Level_Months_Inactive_12_mon_2": 0.9997,
                  "_deepnote_index_column": 9
                }
              ]
            },
            "text/plain": "   CLIENTNUM     Attrition_Flag  Customer_Age Gender  Dependent_count  \\\n0  768805383  Existing Customer            45      M                3   \n1  818770008  Existing Customer            49      F                5   \n2  713982108  Existing Customer            51      M                3   \n3  769911858  Existing Customer            40      F                4   \n4  709106358  Existing Customer            40      M                3   \n5  713061558  Existing Customer            44      M                2   \n6  810347208  Existing Customer            51      M                4   \n7  818906208  Existing Customer            32      M                0   \n8  710930508  Existing Customer            37      M                3   \n9  719661558  Existing Customer            48      M                2   \n\n  Education_Level Marital_Status Income_Category Card_Category  \\\n0     High School        Married     $60K - $80K          Blue   \n1        Graduate         Single  Less than $40K          Blue   \n2        Graduate        Married    $80K - $120K          Blue   \n3     High School        Unknown  Less than $40K          Blue   \n4      Uneducated        Married     $60K - $80K          Blue   \n5        Graduate        Married     $40K - $60K          Blue   \n6         Unknown        Married         $120K +          Gold   \n7     High School        Unknown     $60K - $80K        Silver   \n8      Uneducated         Single     $60K - $80K          Blue   \n9        Graduate         Single    $80K - $120K          Blue   \n\n   Months_on_book  ...  Credit_Limit  Total_Revolving_Bal  Avg_Open_To_Buy  \\\n0              39  ...       12691.0                  777          11914.0   \n1              44  ...        8256.0                  864           7392.0   \n2              36  ...        3418.0                    0           3418.0   \n3              34  ...        3313.0                 2517            796.0   \n4              21  ...        4716.0                    0           4716.0   \n5              36  ...        4010.0                 1247           2763.0   \n6              46  ...       34516.0                 2264          32252.0   \n7              27  ...       29081.0                 1396          27685.0   \n8              36  ...       22352.0                 2517          19835.0   \n9              36  ...       11656.0                 1677           9979.0   \n\n   Total_Amt_Chng_Q4_Q1  Total_Trans_Amt  Total_Trans_Ct  Total_Ct_Chng_Q4_Q1  \\\n0                 1.335             1144              42                1.625   \n1                 1.541             1291              33                3.714   \n2                 2.594             1887              20                2.333   \n3                 1.405             1171              20                2.333   \n4                 2.175              816              28                2.500   \n5                 1.376             1088              24                0.846   \n6                 1.975             1330              31                0.722   \n7                 2.204             1538              36                0.714   \n8                 3.355             1350              24                1.182   \n9                 1.524             1441              32                0.882   \n\n   Avg_Utilization_Ratio  \\\n0                  0.061   \n1                  0.105   \n2                  0.000   \n3                  0.760   \n4                  0.000   \n5                  0.311   \n6                  0.066   \n7                  0.048   \n8                  0.113   \n9                  0.144   \n\n   Naive_Bayes_Classifier_Attrition_Flag_Card_Category_Contacts_Count_12_mon_Dependent_count_Education_Level_Months_Inactive_12_mon_1  \\\n0                                           0.000093                                                                                    \n1                                           0.000057                                                                                    \n2                                           0.000021                                                                                    \n3                                           0.000134                                                                                    \n4                                           0.000022                                                                                    \n5                                           0.000055                                                                                    \n6                                           0.000123                                                                                    \n7                                           0.000086                                                                                    \n8                                           0.000045                                                                                    \n9                                           0.000303                                                                                    \n\n   Naive_Bayes_Classifier_Attrition_Flag_Card_Category_Contacts_Count_12_mon_Dependent_count_Education_Level_Months_Inactive_12_mon_2  \n0                                            0.99991                                                                                   \n1                                            0.99994                                                                                   \n2                                            0.99998                                                                                   \n3                                            0.99987                                                                                   \n4                                            0.99998                                                                                   \n5                                            0.99994                                                                                   \n6                                            0.99988                                                                                   \n7                                            0.99991                                                                                   \n8                                            0.99996                                                                                   \n9                                            0.99970                                                                                   \n\n[10 rows x 23 columns]",
            "text/html": "<div>\n<style scoped>\n    .dataframe tbody tr th:only-of-type {\n        vertical-align: middle;\n    }\n\n    .dataframe tbody tr th {\n        vertical-align: top;\n    }\n\n    .dataframe thead th {\n        text-align: right;\n    }\n</style>\n<table border=\"1\" class=\"dataframe\">\n  <thead>\n    <tr style=\"text-align: right;\">\n      <th></th>\n      <th>CLIENTNUM</th>\n      <th>Attrition_Flag</th>\n      <th>Customer_Age</th>\n      <th>Gender</th>\n      <th>Dependent_count</th>\n      <th>Education_Level</th>\n      <th>Marital_Status</th>\n      <th>Income_Category</th>\n      <th>Card_Category</th>\n      <th>Months_on_book</th>\n      <th>...</th>\n      <th>Credit_Limit</th>\n      <th>Total_Revolving_Bal</th>\n      <th>Avg_Open_To_Buy</th>\n      <th>Total_Amt_Chng_Q4_Q1</th>\n      <th>Total_Trans_Amt</th>\n      <th>Total_Trans_Ct</th>\n      <th>Total_Ct_Chng_Q4_Q1</th>\n      <th>Avg_Utilization_Ratio</th>\n      <th>Naive_Bayes_Classifier_Attrition_Flag_Card_Category_Contacts_Count_12_mon_Dependent_count_Education_Level_Months_Inactive_12_mon_1</th>\n      <th>Naive_Bayes_Classifier_Attrition_Flag_Card_Category_Contacts_Count_12_mon_Dependent_count_Education_Level_Months_Inactive_12_mon_2</th>\n    </tr>\n  </thead>\n  <tbody>\n    <tr>\n      <th>0</th>\n      <td>768805383</td>\n      <td>Existing Customer</td>\n      <td>45</td>\n      <td>M</td>\n      <td>3</td>\n      <td>High School</td>\n      <td>Married</td>\n      <td>$60K - $80K</td>\n      <td>Blue</td>\n      <td>39</td>\n      <td>...</td>\n      <td>12691.0</td>\n      <td>777</td>\n      <td>11914.0</td>\n      <td>1.335</td>\n      <td>1144</td>\n      <td>42</td>\n      <td>1.625</td>\n      <td>0.061</td>\n      <td>0.000093</td>\n      <td>0.99991</td>\n    </tr>\n    <tr>\n      <th>1</th>\n      <td>818770008</td>\n      <td>Existing Customer</td>\n      <td>49</td>\n      <td>F</td>\n      <td>5</td>\n      <td>Graduate</td>\n      <td>Single</td>\n      <td>Less than $40K</td>\n      <td>Blue</td>\n      <td>44</td>\n      <td>...</td>\n      <td>8256.0</td>\n      <td>864</td>\n      <td>7392.0</td>\n      <td>1.541</td>\n      <td>1291</td>\n      <td>33</td>\n      <td>3.714</td>\n      <td>0.105</td>\n      <td>0.000057</td>\n      <td>0.99994</td>\n    </tr>\n    <tr>\n      <th>2</th>\n      <td>713982108</td>\n      <td>Existing Customer</td>\n      <td>51</td>\n      <td>M</td>\n      <td>3</td>\n      <td>Graduate</td>\n      <td>Married</td>\n      <td>$80K - $120K</td>\n      <td>Blue</td>\n      <td>36</td>\n      <td>...</td>\n      <td>3418.0</td>\n      <td>0</td>\n      <td>3418.0</td>\n      <td>2.594</td>\n      <td>1887</td>\n      <td>20</td>\n      <td>2.333</td>\n      <td>0.000</td>\n      <td>0.000021</td>\n      <td>0.99998</td>\n    </tr>\n    <tr>\n      <th>3</th>\n      <td>769911858</td>\n      <td>Existing Customer</td>\n      <td>40</td>\n      <td>F</td>\n      <td>4</td>\n      <td>High School</td>\n      <td>Unknown</td>\n      <td>Less than $40K</td>\n      <td>Blue</td>\n      <td>34</td>\n      <td>...</td>\n      <td>3313.0</td>\n      <td>2517</td>\n      <td>796.0</td>\n      <td>1.405</td>\n      <td>1171</td>\n      <td>20</td>\n      <td>2.333</td>\n      <td>0.760</td>\n      <td>0.000134</td>\n      <td>0.99987</td>\n    </tr>\n    <tr>\n      <th>4</th>\n      <td>709106358</td>\n      <td>Existing Customer</td>\n      <td>40</td>\n      <td>M</td>\n      <td>3</td>\n      <td>Uneducated</td>\n      <td>Married</td>\n      <td>$60K - $80K</td>\n      <td>Blue</td>\n      <td>21</td>\n      <td>...</td>\n      <td>4716.0</td>\n      <td>0</td>\n      <td>4716.0</td>\n      <td>2.175</td>\n      <td>816</td>\n      <td>28</td>\n      <td>2.500</td>\n      <td>0.000</td>\n      <td>0.000022</td>\n      <td>0.99998</td>\n    </tr>\n    <tr>\n      <th>5</th>\n      <td>713061558</td>\n      <td>Existing Customer</td>\n      <td>44</td>\n      <td>M</td>\n      <td>2</td>\n      <td>Graduate</td>\n      <td>Married</td>\n      <td>$40K - $60K</td>\n      <td>Blue</td>\n      <td>36</td>\n      <td>...</td>\n      <td>4010.0</td>\n      <td>1247</td>\n      <td>2763.0</td>\n      <td>1.376</td>\n      <td>1088</td>\n      <td>24</td>\n      <td>0.846</td>\n      <td>0.311</td>\n      <td>0.000055</td>\n      <td>0.99994</td>\n    </tr>\n    <tr>\n      <th>6</th>\n      <td>810347208</td>\n      <td>Existing Customer</td>\n      <td>51</td>\n      <td>M</td>\n      <td>4</td>\n      <td>Unknown</td>\n      <td>Married</td>\n      <td>$120K +</td>\n      <td>Gold</td>\n      <td>46</td>\n      <td>...</td>\n      <td>34516.0</td>\n      <td>2264</td>\n      <td>32252.0</td>\n      <td>1.975</td>\n      <td>1330</td>\n      <td>31</td>\n      <td>0.722</td>\n      <td>0.066</td>\n      <td>0.000123</td>\n      <td>0.99988</td>\n    </tr>\n    <tr>\n      <th>7</th>\n      <td>818906208</td>\n      <td>Existing Customer</td>\n      <td>32</td>\n      <td>M</td>\n      <td>0</td>\n      <td>High School</td>\n      <td>Unknown</td>\n      <td>$60K - $80K</td>\n      <td>Silver</td>\n      <td>27</td>\n      <td>...</td>\n      <td>29081.0</td>\n      <td>1396</td>\n      <td>27685.0</td>\n      <td>2.204</td>\n      <td>1538</td>\n      <td>36</td>\n      <td>0.714</td>\n      <td>0.048</td>\n      <td>0.000086</td>\n      <td>0.99991</td>\n    </tr>\n    <tr>\n      <th>8</th>\n      <td>710930508</td>\n      <td>Existing Customer</td>\n      <td>37</td>\n      <td>M</td>\n      <td>3</td>\n      <td>Uneducated</td>\n      <td>Single</td>\n      <td>$60K - $80K</td>\n      <td>Blue</td>\n      <td>36</td>\n      <td>...</td>\n      <td>22352.0</td>\n      <td>2517</td>\n      <td>19835.0</td>\n      <td>3.355</td>\n      <td>1350</td>\n      <td>24</td>\n      <td>1.182</td>\n      <td>0.113</td>\n      <td>0.000045</td>\n      <td>0.99996</td>\n    </tr>\n    <tr>\n      <th>9</th>\n      <td>719661558</td>\n      <td>Existing Customer</td>\n      <td>48</td>\n      <td>M</td>\n      <td>2</td>\n      <td>Graduate</td>\n      <td>Single</td>\n      <td>$80K - $120K</td>\n      <td>Blue</td>\n      <td>36</td>\n      <td>...</td>\n      <td>11656.0</td>\n      <td>1677</td>\n      <td>9979.0</td>\n      <td>1.524</td>\n      <td>1441</td>\n      <td>32</td>\n      <td>0.882</td>\n      <td>0.144</td>\n      <td>0.000303</td>\n      <td>0.99970</td>\n    </tr>\n  </tbody>\n</table>\n<p>10 rows × 23 columns</p>\n</div>"
          },
          "metadata": {}
        }
      ],
      "execution_count": 6,
      "block_group": "538744fd4914474c82c4d519b11514cc"
    },
    {
      "cell_type": "markdown",
      "source": "<a style='text-decoration:none;line-height:16px;display:flex;color:#5B5B62;padding:10px;justify-content:end;' href='https://deepnote.com?utm_source=created-in-deepnote-cell&projectId=a294b2d6-f686-4c32-aa0c-6491cb6a0c52' target=\"_blank\">\n<img alt='Created in deepnote.com' style='display:inline;max-height:16px;margin:0px;margin-right:7.5px;' src='data:image/svg+xml;base64,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' > </img>\nCreated in <span style='font-weight:600;margin-left:4px;'>Deepnote</span></a>",
      "metadata": {
        "created_in_deepnote_cell": true,
        "deepnote_cell_type": "markdown"
      }
    }
  ],
  "nbformat": 4,
  "nbformat_minor": 0,
  "metadata": {
    "deepnote": {},
    "orig_nbformat": 2,
    "deepnote_notebook_id": "fd5a2c78508e4ab996fc62e6c116e7dc",
    "deepnote_execution_queue": []
  }
}